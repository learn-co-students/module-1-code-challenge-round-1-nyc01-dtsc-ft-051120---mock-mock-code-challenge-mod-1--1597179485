{
 "cells": [
  {
   "cell_type": "markdown",
   "metadata": {
    "nbgrader": {
     "grade": false,
     "grade_id": "cell-9f3ada610d6ee5bf",
     "locked": true,
     "schema_version": 3,
     "solution": false,
     "task": false
    }
   },
   "source": [
    "# Demo Code Challenge \n",
    "\n",
    "This demo is designed to give you the experience of a Code Challenge before your official Code Challenge. \n",
    "\n",
    "It covers:\n",
    " - practice with the Code Challenge workflow\n",
    " - different types of questions\n",
    " - practice using tests\n",
    " \n",
    "*Read the instructions carefully*. You will be asked to write code meeting detailed specifications to pass code tests.\n",
    "\n",
    "### Code tests\n",
    "We have provided some code tests for you to run to check that your work meets the item specifications. Passing these tests does not necessarily mean that you have gotten the item correct - there are additional hidden tests. However, if any of the tests do not pass, this tells you that your code is incorrect and needs changes to meet the specification. Read the comments in the code test cells, the item instructions, and the error message you receive to determine what the issue is."
   ]
  },
  {
   "cell_type": "markdown",
   "metadata": {
    "nbgrader": {
     "grade": false,
     "grade_id": "cell-342cb5fed73e96dc",
     "locked": true,
     "schema_version": 3,
     "solution": false,
     "task": false
    }
   },
   "source": [
    "### Question 1) Write function that includes a new input in a given string\n",
    "\n",
    "The function `print_greeting_function` to do the following:\n",
    "\n",
    "- take a name, any name, as a string, as an argument - for example \"Gregor\"\n",
    "- return the string\n",
    "```\n",
    "Greetings! I am Gregor and I am pleased to make your aquaintance!\n",
    "```\n",
    "- The function should be able to take *any name* and simply insert it the approriate location.\n",
    "\n",
    "Copy the starter code below and paste it into the code cell beneath it, overwriting the `raise NotImplementedError` line. Add to the starter code to make it meet the question requirements."
   ]
  },
  {
   "cell_type": "markdown",
   "metadata": {
    "nbgrader": {
     "grade": false,
     "grade_id": "cell-3e5481995b66fd01",
     "locked": true,
     "schema_version": 3,
     "solution": false,
     "task": false
    }
   },
   "source": [
    "**Starter Code**\n",
    "\n",
    "```\n",
    "def print_greeting_function(name):\n",
    "    \"\"\"\n",
    "    this function takes a string name as an argument \n",
    "    and prints a greeting including that name \n",
    "    \"\"\"\n",
    "    \n",
    "    return( )\n",
    "\n",
    "```"
   ]
  },
  {
   "cell_type": "code",
   "execution_count": null,
   "metadata": {
    "nbgrader": {
     "grade": false,
     "grade_id": "cell-f4647d39b17716ba",
     "locked": false,
     "schema_version": 3,
     "solution": true,
     "task": false
    }
   },
   "outputs": [],
   "source": [
    "### BEGIN SOLUTION\n",
    "def print_greeting_function(name):\n",
    "    \"\"\"\n",
    "    this function takes a string name as an argument \n",
    "    and prints a greeting including that name \n",
    "    \"\"\"\n",
    "    return(f\"Greetings! I am {name} and I am pleased to make your aquaintance!\" )   \n",
    "### END SOLUTION"
   ]
  },
  {
   "cell_type": "code",
   "execution_count": null,
   "metadata": {
    "nbgrader": {
     "grade": true,
     "grade_id": "cell-f7427f34ad14af7a",
     "locked": true,
     "points": 1,
     "schema_version": 3,
     "solution": false,
     "task": false
    }
   },
   "outputs": [],
   "source": [
    "# This test confirms that print_name_function returns the sentence when passed a name\n",
    "test_NAME =  \"Darrell\"\n",
    "assert print_greeting_function(test_NAME)==\"Greetings! I am Darrell and I am pleased to make your aquaintance!\"\n",
    "\n",
    "\n",
    "### BEGIN HIDDEN TESTS\n",
    "\n",
    "_test_name = \"George\"\n",
    "_test_result = \"Greetings! I am George and I am pleased to make your aquaintance!\"\n",
    "assert print_greeting_function(_test_name) == _test_result\n",
    "\n",
    "### END HIDDEN TESTS"
   ]
  },
  {
   "cell_type": "markdown",
   "metadata": {
    "nbgrader": {
     "grade": false,
     "grade_id": "cell-5e2270a56260dfa4",
     "locked": true,
     "schema_version": 3,
     "solution": false,
     "task": false
    }
   },
   "source": [
    "### Question 2: Index a lists\n",
    "\n",
    "Below is a list of tree type names\n"
   ]
  },
  {
   "cell_type": "code",
   "execution_count": null,
   "metadata": {
    "nbgrader": {
     "grade": false,
     "grade_id": "cell-b46a8864d10017a8",
     "locked": true,
     "schema_version": 3,
     "solution": false,
     "task": false
    }
   },
   "outputs": [],
   "source": [
    "# Run this cell without changes\n",
    "trees_list = ['linden', 'spruce', 'dogwood','hickory','willow']"
   ]
  },
  {
   "cell_type": "markdown",
   "metadata": {
    "nbgrader": {
     "grade": false,
     "grade_id": "cell-43b054c719687c32",
     "locked": true,
     "schema_version": 3,
     "solution": false,
     "task": false
    }
   },
   "source": [
    "#### 2.1) Assign the correct index value to X in the starter code, so the starter code returns 'dogwood'.\n",
    "\n",
    "Copy the starter code below and paste it into the code cell beneath it, overwriting the `raise NotImplementedError` line. Add to the starter code to make it meet the question requirements.\n",
    "\n",
    "**Starter Code**\n",
    "\n",
    "```\n",
    "X = \n",
    "trees_list[X]\n",
    "```"
   ]
  },
  {
   "cell_type": "code",
   "execution_count": null,
   "metadata": {
    "nbgrader": {
     "grade": false,
     "grade_id": "cell-0b84459c9aaab532",
     "locked": false,
     "schema_version": 3,
     "solution": true,
     "task": false
    }
   },
   "outputs": [],
   "source": [
    "### BEGIN SOLUTION\n",
    "X = 2\n",
    "## OR\n",
    "X = -3\n",
    "### END SOLUTION"
   ]
  },
  {
   "cell_type": "code",
   "execution_count": null,
   "metadata": {
    "nbgrader": {
     "grade": true,
     "grade_id": "cell-00926387ac95d868",
     "locked": true,
     "points": 0,
     "schema_version": 3,
     "solution": false,
     "task": false
    }
   },
   "outputs": [],
   "source": [
    "# This test confirms that you have assigned a numeric value to X\n",
    "\n",
    "assert trees_list[X] == 'dogwood'\n",
    "\n",
    "### BEGIN HIDDEN TESTS\n",
    "assert (X==2) or (X==-3)\n",
    "### END HIDDEN TESTS"
   ]
  },
  {
   "cell_type": "markdown",
   "metadata": {
    "nbgrader": {
     "grade": false,
     "grade_id": "cell-b84db6974866599c",
     "locked": true,
     "schema_version": 3,
     "solution": false,
     "task": false
    }
   },
   "source": [
    "### Question 3)  Writing the purpose of the program\n",
    "\n",
    "Please explain the purpose of code challenges in the Flatiron School Data Science program."
   ]
  },
  {
   "cell_type": "markdown",
   "metadata": {
    "nbgrader": {
     "grade": true,
     "grade_id": "cell-16aad1712359fe52",
     "locked": false,
     "points": 1,
     "schema_version": 3,
     "solution": true,
     "task": false
    }
   },
   "source": [
    "\n",
    "=== BEGIN MARK SCHEME ===\n",
    "\n",
    "The code challenges allow the education team to assess progress and develop the best learning plan for students\n",
    "\n",
    "=== END MARK SCHEME ==="
   ]
  }
 ],
 "metadata": {
  "celltoolbar": "Create Assignment",
  "kernelspec": {
   "display_name": "Python 3",
   "language": "python",
   "name": "python3"
  },
  "language_info": {
   "codemirror_mode": {
    "name": "ipython",
    "version": 3
   },
   "file_extension": ".py",
   "mimetype": "text/x-python",
   "name": "python",
   "nbconvert_exporter": "python",
   "pygments_lexer": "ipython3",
   "version": "3.7.6"
  }
 },
 "nbformat": 4,
 "nbformat_minor": 4
}
