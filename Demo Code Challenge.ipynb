{
 "cells": [
  {
   "cell_type": "markdown",
   "metadata": {
    "nbgrader": {
     "grade": false,
     "grade_id": "cell-9f3ada610d6ee5bf",
     "locked": true,
     "schema_version": 3,
     "solution": false,
     "task": false
    }
   },
   "source": [
    "# Demo Data Science Code Challenge One\n",
    "This code challenge is designed to test your understanding of code challenge process. It covers:\n",
    "\n",
    "- Anwering a code question\n",
    "- Answering a short answer question\n",
    "\n",
    "Read the instructions carefully. You will be asked both to write code and respond to a few short answer questions.\n",
    "\n",
    "### Code Questions\n",
    "Each cell where you are expected to code will contain:\n",
    "\n",
    "```\n",
    "# YOUR CODE HERE\n",
    "raise NotImplementedError()\n",
    "```\n",
    "Delete `raise NotImplementedError()`, use whatever sample code is provided, and start coding!\n",
    "\n",
    "### Short Answer Questions\n",
    "Short answer questions are answered in _Markdown_ cells. Cells where you are expected to write your answer will show as:\n",
    "\n",
    "Type _Markdown_ and LaTeX:  $𝛼^2$\n",
    "\n",
    "Clicking to write _in_ those cells will remove the instructions.\n",
    "\n",
    "Note on the short answer questions For the short answer questions please _**use your own words**_. The expectation is that you have **not** copied and pasted from an external source, even if you consult another source to help craft your response. While the short answer questions are not necessarily being assessed on grammatical correctness or sentence structure, you should do your best to communicate yourself clearly.\n",
    "\n"
   ]
  },
  {
   "cell_type": "markdown",
   "metadata": {
    "nbgrader": {
     "grade": false,
     "grade_id": "cell-342cb5fed73e96dc",
     "locked": true,
     "schema_version": 3,
     "solution": false,
     "task": false
    }
   },
   "source": [
    "## Question 1\n",
    "Adapt the `printnamefunction` to do the following:\n",
    "\n",
    "- take a name as an argument\n",
    "- return the string \"greetings! I am name and I am pleased to make your aquaintance!\"\n",
    "- assign your actual name (ie \"Sir Patrick Stewart\" or \"Lupita Nyong'o\") to the variable `NAME`\n",
    "- then run `print(printnamefunction(NAME))` to see the result\n",
    "\n",
    "For example:\n",
    "```\n",
    "NAME = 'Darrel'\n",
    "print(printnamefunction(NAME))\n",
    "\n",
    "```\n",
    "Will generate:\n",
    "\n",
    "```\n",
    "     greetings! I am Darrel and I am pleased to make your aquaintance!\n",
    "```\n",
    "\n",
    "Copy the sample code below to start."
   ]
  },
  {
   "cell_type": "code",
   "execution_count": null,
   "metadata": {
    "nbgrader": {
     "grade": false,
     "grade_id": "cell-3e5481995b66fd01",
     "locked": true,
     "schema_version": 3,
     "solution": false,
     "task": false
    }
   },
   "outputs": [],
   "source": [
    "# Starter Code\n",
    "\n",
    "def printnamefunction(name):\n",
    "    \"\"\"\n",
    "    this function takes a string name as an argument \n",
    "    and prints a greeting including that name \n",
    "    \"\"\"\n",
    "    \n",
    "    return( )\n",
    "    \n",
    "NAME =  # edit to set name as your actual name\n",
    "\n",
    "print(printnamefunction(NAME))"
   ]
  },
  {
   "cell_type": "code",
   "execution_count": 2,
   "metadata": {
    "nbgrader": {
     "grade": false,
     "grade_id": "cell-f4647d39b17716ba",
     "locked": false,
     "schema_version": 3,
     "solution": true,
     "task": false
    }
   },
   "outputs": [
    {
     "name": "stdout",
     "output_type": "stream",
     "text": [
      "greetings! I am Matilda and I am pleased to make your aquaintance!\n"
     ]
    }
   ],
   "source": [
    "\n",
    "### BEGIN SOLUTION\n",
    "def printnamefunction(name):\n",
    "    \"\"\"\n",
    "    this function takes a string name as an argument \n",
    "    and prints a greeting including that name \n",
    "    \"\"\"\n",
    "    return(f\"greetings! I am {name} and I am pleased to make your aquaintance!\" )\n",
    "\n",
    "NAME = \"Matilda\"\n",
    "\n",
    "print(printnamefunction(NAME))    \n",
    "### END SOLUTION\n"
   ]
  },
  {
   "cell_type": "code",
   "execution_count": 3,
   "metadata": {
    "nbgrader": {
     "grade": true,
     "grade_id": "cell-f7427f34ad14af7a",
     "locked": true,
     "points": 1,
     "schema_version": 3,
     "solution": false,
     "task": false
    }
   },
   "outputs": [
    {
     "ename": "AssertionError",
     "evalue": "",
     "output_type": "error",
     "traceback": [
      "\u001b[0;31m---------------------------------------------------------------------------\u001b[0m",
      "\u001b[0;31mAssertionError\u001b[0m                            Traceback (most recent call last)",
      "\u001b[0;32m<ipython-input-3-54ba112bfe85>\u001b[0m in \u001b[0;36m<module>\u001b[0;34m\u001b[0m\n\u001b[1;32m      3\u001b[0m \u001b[0m_test_name\u001b[0m \u001b[0;34m=\u001b[0m \u001b[0;34m\"George\"\u001b[0m\u001b[0;34m\u001b[0m\u001b[0;34m\u001b[0m\u001b[0m\n\u001b[1;32m      4\u001b[0m \u001b[0m_test_result\u001b[0m \u001b[0;34m=\u001b[0m \u001b[0;34m\"greetings! I am sally and I am pleased to make your aquaintance!\"\u001b[0m\u001b[0;34m\u001b[0m\u001b[0;34m\u001b[0m\u001b[0m\n\u001b[0;32m----> 5\u001b[0;31m \u001b[0;32massert\u001b[0m \u001b[0mprintnamefunction\u001b[0m\u001b[0;34m(\u001b[0m\u001b[0m_test_name\u001b[0m\u001b[0;34m)\u001b[0m \u001b[0;34m==\u001b[0m \u001b[0m_test_result\u001b[0m\u001b[0;34m\u001b[0m\u001b[0;34m\u001b[0m\u001b[0m\n\u001b[0m\u001b[1;32m      6\u001b[0m \u001b[0;34m\u001b[0m\u001b[0m\n\u001b[1;32m      7\u001b[0m \u001b[0;31m### END HIDDEN TESTS\u001b[0m\u001b[0;34m\u001b[0m\u001b[0;34m\u001b[0m\u001b[0;34m\u001b[0m\u001b[0m\n",
      "\u001b[0;31mAssertionError\u001b[0m: "
     ]
    }
   ],
   "source": [
    "### BEGIN HIDDEN TESTS\n",
    "\n",
    "_test_name = \"George\"\n",
    "_test_result = \"greetings! I am George and I am pleased to make your aquaintance!\"\n",
    "assert printnamefunction(_test_name) == _test_result\n",
    "\n",
    "### END HIDDEN TESTS"
   ]
  },
  {
   "cell_type": "markdown",
   "metadata": {
    "nbgrader": {
     "grade": false,
     "grade_id": "cell-b84db6974866599c",
     "locked": true,
     "schema_version": 3,
     "solution": false,
     "task": false
    }
   },
   "source": [
    "## Question 2:\n",
    "Please explain the purpose of code challenges in the flatiron school data science program."
   ]
  },
  {
   "cell_type": "markdown",
   "metadata": {
    "nbgrader": {
     "grade": true,
     "grade_id": "cell-16aad1712359fe52",
     "locked": false,
     "points": 1,
     "schema_version": 3,
     "solution": true,
     "task": false
    }
   },
   "source": [
    "\n",
    "=== BEGIN MARK SCHEME ===\n",
    "\n",
    "The code challenges allow the education team to assess progress and develop the best learning plan for students\n",
    "\n",
    "=== END MARK SCHEME ==="
   ]
  }
 ],
 "metadata": {
  "celltoolbar": "Create Assignment",
  "kernelspec": {
   "display_name": "Python 3",
   "language": "python",
   "name": "python3"
  },
  "language_info": {
   "codemirror_mode": {
    "name": "ipython",
    "version": 3
   },
   "file_extension": ".py",
   "mimetype": "text/x-python",
   "name": "python",
   "nbconvert_exporter": "python",
   "pygments_lexer": "ipython3",
   "version": "3.7.6"
  }
 },
 "nbformat": 4,
 "nbformat_minor": 4
}
